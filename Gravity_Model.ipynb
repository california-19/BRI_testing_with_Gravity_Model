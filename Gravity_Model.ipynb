{
  "nbformat": 4,
  "nbformat_minor": 0,
  "metadata": {
    "colab": {
      "name": "Gravity Model.ipynb",
      "provenance": [],
      "authorship_tag": "ABX9TyNMYcw16ZCscwSYwGaPVwGs"
    },
    "kernelspec": {
      "name": "python3",
      "display_name": "Python 3"
    }
  },
  "cells": [
    {
      "cell_type": "markdown",
      "metadata": {
        "id": "d1l-ICz1SAzs",
        "colab_type": "text"
      },
      "source": [
        "Gravity Model to test if being a BRI-member country makes a difference in trade"
      ]
    },
    {
      "cell_type": "code",
      "metadata": {
        "id": "b3q1596BR9NP",
        "colab_type": "code",
        "colab": {}
      },
      "source": [
        " # Import packages\n",
        "import numpy as np\n",
        "import matplotlib.pyplot as plt\n",
        "import sklearn\n",
        "import sklearn.datasets\n",
        "import sklearn.linear_model\n",
        "from sklearn import preprocessing\n",
        "import pandas as pd\n",
        "\n",
        "%matplotlib inline\n",
        "\n",
        "np.random.seed(1)"
      ],
      "execution_count": null,
      "outputs": []
    },
    {
      "cell_type": "code",
      "metadata": {
        "id": "hLBxjYu2kj3B",
        "colab_type": "code",
        "colab": {
          "base_uri": "https://localhost:8080/",
          "height": 34
        },
        "outputId": "00ff7e3a-ef8a-4af1-ef41-b20ba47c4f44"
      },
      "source": [
        "# Here we imported our data from our Google drive. You may need to import data in another way.\n",
        "from google.colab import drive\n",
        "drive.mount('/content/drive')"
      ],
      "execution_count": null,
      "outputs": [
        {
          "output_type": "stream",
          "text": [
            "Drive already mounted at /content/drive; to attempt to forcibly remount, call drive.mount(\"/content/drive\", force_remount=True).\n"
          ],
          "name": "stdout"
        }
      ]
    },
    {
      "cell_type": "code",
      "metadata": {
        "id": "t-kGpB6FlZ6n",
        "colab_type": "code",
        "colab": {}
      },
      "source": [
        "path = \"/content/drive/My Drive/Colab Notebooks/Data/data_in_excel.csv\"\n",
        "df_raw = pd.read_csv(path)"
      ],
      "execution_count": null,
      "outputs": []
    },
    {
      "cell_type": "code",
      "metadata": {
        "id": "KMi4Frj4dOT7",
        "colab_type": "code",
        "colab": {
          "base_uri": "https://localhost:8080/",
          "height": 195
        },
        "outputId": "49ea284c-3de9-4976-dba6-250d17973f48"
      },
      "source": [
        "# In the next lines, we formatted the data. This way our CSV data is easy to read\n",
        "df_raw.head()"
      ],
      "execution_count": null,
      "outputs": [
        {
          "output_type": "execute_result",
          "data": {
            "text/html": [
              "<div>\n",
              "<style scoped>\n",
              "    .dataframe tbody tr th:only-of-type {\n",
              "        vertical-align: middle;\n",
              "    }\n",
              "\n",
              "    .dataframe tbody tr th {\n",
              "        vertical-align: top;\n",
              "    }\n",
              "\n",
              "    .dataframe thead th {\n",
              "        text-align: right;\n",
              "    }\n",
              "</style>\n",
              "<table border=\"1\" class=\"dataframe\">\n",
              "  <thead>\n",
              "    <tr style=\"text-align: right;\">\n",
              "      <th></th>\n",
              "      <th>country</th>\n",
              "      <th>year</th>\n",
              "      <th>china_gdp</th>\n",
              "      <th>gdp</th>\n",
              "      <th>dist</th>\n",
              "      <th>border</th>\n",
              "      <th>bri</th>\n",
              "      <th>imp</th>\n",
              "      <th>exp</th>\n",
              "      <th>total</th>\n",
              "    </tr>\n",
              "  </thead>\n",
              "  <tbody>\n",
              "    <tr>\n",
              "      <th>0</th>\n",
              "      <td>Afghanistan</td>\n",
              "      <td>2008</td>\n",
              "      <td>4594306848763</td>\n",
              "      <td>10109218068</td>\n",
              "      <td>4184</td>\n",
              "      <td>1</td>\n",
              "      <td>0</td>\n",
              "      <td>2693017</td>\n",
              "      <td>151626761</td>\n",
              "      <td>154319778</td>\n",
              "    </tr>\n",
              "    <tr>\n",
              "      <th>1</th>\n",
              "      <td>Afghanistan</td>\n",
              "      <td>2009</td>\n",
              "      <td>5101702432883</td>\n",
              "      <td>12439087077</td>\n",
              "      <td>4184</td>\n",
              "      <td>1</td>\n",
              "      <td>0</td>\n",
              "      <td>1375868</td>\n",
              "      <td>213366201</td>\n",
              "      <td>214742069</td>\n",
              "    </tr>\n",
              "    <tr>\n",
              "      <th>2</th>\n",
              "      <td>Afghanistan</td>\n",
              "      <td>2010</td>\n",
              "      <td>6087164527421</td>\n",
              "      <td>15856574731</td>\n",
              "      <td>4184</td>\n",
              "      <td>1</td>\n",
              "      <td>0</td>\n",
              "      <td>3680419</td>\n",
              "      <td>175264609</td>\n",
              "      <td>178945028</td>\n",
              "    </tr>\n",
              "    <tr>\n",
              "      <th>3</th>\n",
              "      <td>Afghanistan</td>\n",
              "      <td>2011</td>\n",
              "      <td>7551500425598</td>\n",
              "      <td>17804280538</td>\n",
              "      <td>4184</td>\n",
              "      <td>1</td>\n",
              "      <td>0</td>\n",
              "      <td>4403087</td>\n",
              "      <td>230009966</td>\n",
              "      <td>234413053</td>\n",
              "    </tr>\n",
              "    <tr>\n",
              "      <th>4</th>\n",
              "      <td>Afghanistan</td>\n",
              "      <td>2012</td>\n",
              "      <td>8532230724142</td>\n",
              "      <td>20001615789</td>\n",
              "      <td>4184</td>\n",
              "      <td>1</td>\n",
              "      <td>0</td>\n",
              "      <td>5186565</td>\n",
              "      <td>464033546</td>\n",
              "      <td>469220111</td>\n",
              "    </tr>\n",
              "  </tbody>\n",
              "</table>\n",
              "</div>"
            ],
            "text/plain": [
              "       country  year      china_gdp  ...      imp        exp      total\n",
              "0  Afghanistan  2008  4594306848763  ...  2693017  151626761  154319778\n",
              "1  Afghanistan  2009  5101702432883  ...  1375868  213366201  214742069\n",
              "2  Afghanistan  2010  6087164527421  ...  3680419  175264609  178945028\n",
              "3  Afghanistan  2011  7551500425598  ...  4403087  230009966  234413053\n",
              "4  Afghanistan  2012  8532230724142  ...  5186565  464033546  469220111\n",
              "\n",
              "[5 rows x 10 columns]"
            ]
          },
          "metadata": {
            "tags": []
          },
          "execution_count": 6
        }
      ]
    },
    {
      "cell_type": "code",
      "metadata": {
        "id": "Dk1o0p0GbFlR",
        "colab_type": "code",
        "colab": {
          "base_uri": "https://localhost:8080/",
          "height": 34
        },
        "outputId": "1f5b171e-1823-487f-d582-aef669fd290c"
      },
      "source": [
        "df_raw.shape"
      ],
      "execution_count": null,
      "outputs": [
        {
          "output_type": "execute_result",
          "data": {
            "text/plain": [
              "(825, 10)"
            ]
          },
          "metadata": {
            "tags": []
          },
          "execution_count": 7
        }
      ]
    },
    {
      "cell_type": "code",
      "metadata": {
        "id": "SzqdLeM-akjb",
        "colab_type": "code",
        "colab": {
          "base_uri": "https://localhost:8080/",
          "height": 302
        },
        "outputId": "daf63804-16d4-4ba0-c1a5-125efc4b860c"
      },
      "source": [
        "df_raw.info()"
      ],
      "execution_count": null,
      "outputs": [
        {
          "output_type": "stream",
          "text": [
            "<class 'pandas.core.frame.DataFrame'>\n",
            "RangeIndex: 825 entries, 0 to 824\n",
            "Data columns (total 10 columns):\n",
            " #   Column     Non-Null Count  Dtype \n",
            "---  ------     --------------  ----- \n",
            " 0   country    825 non-null    object\n",
            " 1   year       825 non-null    int64 \n",
            " 2   china_gdp  825 non-null    int64 \n",
            " 3   gdp        825 non-null    int64 \n",
            " 4   dist       825 non-null    int64 \n",
            " 5   border     825 non-null    int64 \n",
            " 6   bri        825 non-null    int64 \n",
            " 7   imp        825 non-null    int64 \n",
            " 8   exp        825 non-null    int64 \n",
            " 9   total      825 non-null    int64 \n",
            "dtypes: int64(9), object(1)\n",
            "memory usage: 64.6+ KB\n"
          ],
          "name": "stdout"
        }
      ]
    },
    {
      "cell_type": "code",
      "metadata": {
        "id": "YRo4wWgAlsos",
        "colab_type": "code",
        "colab": {}
      },
      "source": [
        "# Normalization of data happens here\n",
        "df_raw[\"imp\"] = (df_raw[\"imp\"]-df_raw[\"imp\"].mean())/df_raw[\"imp\"].std()\n",
        "df_raw[\"exp\"] = (df_raw[\"exp\"]-df_raw[\"exp\"].mean())/df_raw[\"exp\"].std()\n",
        "df_raw[\"china_gdp\"] = (df_raw[\"china_gdp\"]-df_raw[\"china_gdp\"].mean())/df_raw[\"china_gdp\"].std()\n",
        "df_raw[\"total\"] = (df_raw[\"total\"]-df_raw[\"total\"].mean())/df_raw[\"total\"].std()\n",
        "df_raw[\"gdp\"] = (df_raw[\"gdp\"]-df_raw[\"gdp\"].mean())/df_raw[\"gdp\"].std()\n",
        "df_raw[\"dist\"] = (df_raw[\"dist\"]-df_raw[\"dist\"].mean())/df_raw[\"dist\"].std()"
      ],
      "execution_count": null,
      "outputs": []
    },
    {
      "cell_type": "code",
      "metadata": {
        "id": "ATuG2LqY7wtw",
        "colab_type": "code",
        "colab": {
          "base_uri": "https://localhost:8080/",
          "height": 195
        },
        "outputId": "537b2ef7-3090-4b77-a346-6f52f75afbdb"
      },
      "source": [
        "df_raw.head()"
      ],
      "execution_count": null,
      "outputs": [
        {
          "output_type": "execute_result",
          "data": {
            "text/html": [
              "<div>\n",
              "<style scoped>\n",
              "    .dataframe tbody tr th:only-of-type {\n",
              "        vertical-align: middle;\n",
              "    }\n",
              "\n",
              "    .dataframe tbody tr th {\n",
              "        vertical-align: top;\n",
              "    }\n",
              "\n",
              "    .dataframe thead th {\n",
              "        text-align: right;\n",
              "    }\n",
              "</style>\n",
              "<table border=\"1\" class=\"dataframe\">\n",
              "  <thead>\n",
              "    <tr style=\"text-align: right;\">\n",
              "      <th></th>\n",
              "      <th>country</th>\n",
              "      <th>year</th>\n",
              "      <th>china_gdp</th>\n",
              "      <th>gdp</th>\n",
              "      <th>dist</th>\n",
              "      <th>border</th>\n",
              "      <th>bri</th>\n",
              "      <th>imp</th>\n",
              "      <th>exp</th>\n",
              "      <th>total</th>\n",
              "    </tr>\n",
              "  </thead>\n",
              "  <tbody>\n",
              "    <tr>\n",
              "      <th>0</th>\n",
              "      <td>Afghanistan</td>\n",
              "      <td>2008</td>\n",
              "      <td>-1.586325</td>\n",
              "      <td>-0.496193</td>\n",
              "      <td>-0.961834</td>\n",
              "      <td>1</td>\n",
              "      <td>0</td>\n",
              "      <td>-0.511530</td>\n",
              "      <td>-0.593190</td>\n",
              "      <td>-0.588332</td>\n",
              "    </tr>\n",
              "    <tr>\n",
              "      <th>1</th>\n",
              "      <td>Afghanistan</td>\n",
              "      <td>2009</td>\n",
              "      <td>-1.406528</td>\n",
              "      <td>-0.490391</td>\n",
              "      <td>-0.961834</td>\n",
              "      <td>1</td>\n",
              "      <td>0</td>\n",
              "      <td>-0.511647</td>\n",
              "      <td>-0.588314</td>\n",
              "      <td>-0.585652</td>\n",
              "    </tr>\n",
              "    <tr>\n",
              "      <th>2</th>\n",
              "      <td>Afghanistan</td>\n",
              "      <td>2010</td>\n",
              "      <td>-1.057328</td>\n",
              "      <td>-0.481882</td>\n",
              "      <td>-0.961834</td>\n",
              "      <td>1</td>\n",
              "      <td>0</td>\n",
              "      <td>-0.511442</td>\n",
              "      <td>-0.591323</td>\n",
              "      <td>-0.587239</td>\n",
              "    </tr>\n",
              "    <tr>\n",
              "      <th>3</th>\n",
              "      <td>Afghanistan</td>\n",
              "      <td>2011</td>\n",
              "      <td>-0.538437</td>\n",
              "      <td>-0.477032</td>\n",
              "      <td>-0.961834</td>\n",
              "      <td>1</td>\n",
              "      <td>0</td>\n",
              "      <td>-0.511378</td>\n",
              "      <td>-0.587000</td>\n",
              "      <td>-0.584779</td>\n",
              "    </tr>\n",
              "    <tr>\n",
              "      <th>4</th>\n",
              "      <td>Afghanistan</td>\n",
              "      <td>2012</td>\n",
              "      <td>-0.190913</td>\n",
              "      <td>-0.471561</td>\n",
              "      <td>-0.961834</td>\n",
              "      <td>1</td>\n",
              "      <td>0</td>\n",
              "      <td>-0.511308</td>\n",
              "      <td>-0.568518</td>\n",
              "      <td>-0.574364</td>\n",
              "    </tr>\n",
              "  </tbody>\n",
              "</table>\n",
              "</div>"
            ],
            "text/plain": [
              "       country  year  china_gdp       gdp  ...  bri       imp       exp     total\n",
              "0  Afghanistan  2008  -1.586325 -0.496193  ...    0 -0.511530 -0.593190 -0.588332\n",
              "1  Afghanistan  2009  -1.406528 -0.490391  ...    0 -0.511647 -0.588314 -0.585652\n",
              "2  Afghanistan  2010  -1.057328 -0.481882  ...    0 -0.511442 -0.591323 -0.587239\n",
              "3  Afghanistan  2011  -0.538437 -0.477032  ...    0 -0.511378 -0.587000 -0.584779\n",
              "4  Afghanistan  2012  -0.190913 -0.471561  ...    0 -0.511308 -0.568518 -0.574364\n",
              "\n",
              "[5 rows x 10 columns]"
            ]
          },
          "metadata": {
            "tags": []
          },
          "execution_count": 10
        }
      ]
    },
    {
      "cell_type": "code",
      "metadata": {
        "id": "aSyVaAFS9Fwa",
        "colab_type": "code",
        "colab": {}
      },
      "source": [
        "df_raw.drop('country', axis=1, inplace=True)\n",
        "df_raw.drop('year', axis=1, inplace=True)"
      ],
      "execution_count": null,
      "outputs": []
    },
    {
      "cell_type": "code",
      "metadata": {
        "id": "hL1icbec_X3b",
        "colab_type": "code",
        "colab": {
          "base_uri": "https://localhost:8080/",
          "height": 195
        },
        "outputId": "359f4f4b-7cca-4c65-9d9c-3940af7659e4"
      },
      "source": [
        "df_raw.head()"
      ],
      "execution_count": null,
      "outputs": [
        {
          "output_type": "execute_result",
          "data": {
            "text/html": [
              "<div>\n",
              "<style scoped>\n",
              "    .dataframe tbody tr th:only-of-type {\n",
              "        vertical-align: middle;\n",
              "    }\n",
              "\n",
              "    .dataframe tbody tr th {\n",
              "        vertical-align: top;\n",
              "    }\n",
              "\n",
              "    .dataframe thead th {\n",
              "        text-align: right;\n",
              "    }\n",
              "</style>\n",
              "<table border=\"1\" class=\"dataframe\">\n",
              "  <thead>\n",
              "    <tr style=\"text-align: right;\">\n",
              "      <th></th>\n",
              "      <th>china_gdp</th>\n",
              "      <th>gdp</th>\n",
              "      <th>dist</th>\n",
              "      <th>border</th>\n",
              "      <th>bri</th>\n",
              "      <th>imp</th>\n",
              "      <th>exp</th>\n",
              "      <th>total</th>\n",
              "    </tr>\n",
              "  </thead>\n",
              "  <tbody>\n",
              "    <tr>\n",
              "      <th>0</th>\n",
              "      <td>-1.586325</td>\n",
              "      <td>-0.496193</td>\n",
              "      <td>-0.961834</td>\n",
              "      <td>1</td>\n",
              "      <td>0</td>\n",
              "      <td>-0.511530</td>\n",
              "      <td>-0.593190</td>\n",
              "      <td>-0.588332</td>\n",
              "    </tr>\n",
              "    <tr>\n",
              "      <th>1</th>\n",
              "      <td>-1.406528</td>\n",
              "      <td>-0.490391</td>\n",
              "      <td>-0.961834</td>\n",
              "      <td>1</td>\n",
              "      <td>0</td>\n",
              "      <td>-0.511647</td>\n",
              "      <td>-0.588314</td>\n",
              "      <td>-0.585652</td>\n",
              "    </tr>\n",
              "    <tr>\n",
              "      <th>2</th>\n",
              "      <td>-1.057328</td>\n",
              "      <td>-0.481882</td>\n",
              "      <td>-0.961834</td>\n",
              "      <td>1</td>\n",
              "      <td>0</td>\n",
              "      <td>-0.511442</td>\n",
              "      <td>-0.591323</td>\n",
              "      <td>-0.587239</td>\n",
              "    </tr>\n",
              "    <tr>\n",
              "      <th>3</th>\n",
              "      <td>-0.538437</td>\n",
              "      <td>-0.477032</td>\n",
              "      <td>-0.961834</td>\n",
              "      <td>1</td>\n",
              "      <td>0</td>\n",
              "      <td>-0.511378</td>\n",
              "      <td>-0.587000</td>\n",
              "      <td>-0.584779</td>\n",
              "    </tr>\n",
              "    <tr>\n",
              "      <th>4</th>\n",
              "      <td>-0.190913</td>\n",
              "      <td>-0.471561</td>\n",
              "      <td>-0.961834</td>\n",
              "      <td>1</td>\n",
              "      <td>0</td>\n",
              "      <td>-0.511308</td>\n",
              "      <td>-0.568518</td>\n",
              "      <td>-0.574364</td>\n",
              "    </tr>\n",
              "  </tbody>\n",
              "</table>\n",
              "</div>"
            ],
            "text/plain": [
              "   china_gdp       gdp      dist  border  bri       imp       exp     total\n",
              "0  -1.586325 -0.496193 -0.961834       1    0 -0.511530 -0.593190 -0.588332\n",
              "1  -1.406528 -0.490391 -0.961834       1    0 -0.511647 -0.588314 -0.585652\n",
              "2  -1.057328 -0.481882 -0.961834       1    0 -0.511442 -0.591323 -0.587239\n",
              "3  -0.538437 -0.477032 -0.961834       1    0 -0.511378 -0.587000 -0.584779\n",
              "4  -0.190913 -0.471561 -0.961834       1    0 -0.511308 -0.568518 -0.574364"
            ]
          },
          "metadata": {
            "tags": []
          },
          "execution_count": 12
        }
      ]
    },
    {
      "cell_type": "code",
      "metadata": {
        "id": "vVgmuYgG_d-k",
        "colab_type": "code",
        "colab": {}
      },
      "source": [
        "# Dividing data set into BRI-member and non-BRI-member countries\n",
        "df_bri = df_raw[df_raw['bri'] == 1]\n",
        "df_nonbri = df_raw[df_raw['bri'] == 0]"
      ],
      "execution_count": null,
      "outputs": []
    },
    {
      "cell_type": "code",
      "metadata": {
        "id": "lvpxA_QraXoB",
        "colab_type": "code",
        "colab": {
          "base_uri": "https://localhost:8080/",
          "height": 195
        },
        "outputId": "d7f17067-6363-4fcf-e81d-68c48e13d3fb"
      },
      "source": [
        "df_nonbri.head()"
      ],
      "execution_count": null,
      "outputs": [
        {
          "output_type": "execute_result",
          "data": {
            "text/html": [
              "<div>\n",
              "<style scoped>\n",
              "    .dataframe tbody tr th:only-of-type {\n",
              "        vertical-align: middle;\n",
              "    }\n",
              "\n",
              "    .dataframe tbody tr th {\n",
              "        vertical-align: top;\n",
              "    }\n",
              "\n",
              "    .dataframe thead th {\n",
              "        text-align: right;\n",
              "    }\n",
              "</style>\n",
              "<table border=\"1\" class=\"dataframe\">\n",
              "  <thead>\n",
              "    <tr style=\"text-align: right;\">\n",
              "      <th></th>\n",
              "      <th>china_gdp</th>\n",
              "      <th>gdp</th>\n",
              "      <th>dist</th>\n",
              "      <th>border</th>\n",
              "      <th>bri</th>\n",
              "      <th>imp</th>\n",
              "      <th>exp</th>\n",
              "      <th>total</th>\n",
              "    </tr>\n",
              "  </thead>\n",
              "  <tbody>\n",
              "    <tr>\n",
              "      <th>0</th>\n",
              "      <td>-1.586325</td>\n",
              "      <td>-0.496193</td>\n",
              "      <td>-0.961834</td>\n",
              "      <td>1</td>\n",
              "      <td>0</td>\n",
              "      <td>-0.511530</td>\n",
              "      <td>-0.593190</td>\n",
              "      <td>-0.588332</td>\n",
              "    </tr>\n",
              "    <tr>\n",
              "      <th>1</th>\n",
              "      <td>-1.406528</td>\n",
              "      <td>-0.490391</td>\n",
              "      <td>-0.961834</td>\n",
              "      <td>1</td>\n",
              "      <td>0</td>\n",
              "      <td>-0.511647</td>\n",
              "      <td>-0.588314</td>\n",
              "      <td>-0.585652</td>\n",
              "    </tr>\n",
              "    <tr>\n",
              "      <th>2</th>\n",
              "      <td>-1.057328</td>\n",
              "      <td>-0.481882</td>\n",
              "      <td>-0.961834</td>\n",
              "      <td>1</td>\n",
              "      <td>0</td>\n",
              "      <td>-0.511442</td>\n",
              "      <td>-0.591323</td>\n",
              "      <td>-0.587239</td>\n",
              "    </tr>\n",
              "    <tr>\n",
              "      <th>3</th>\n",
              "      <td>-0.538437</td>\n",
              "      <td>-0.477032</td>\n",
              "      <td>-0.961834</td>\n",
              "      <td>1</td>\n",
              "      <td>0</td>\n",
              "      <td>-0.511378</td>\n",
              "      <td>-0.587000</td>\n",
              "      <td>-0.584779</td>\n",
              "    </tr>\n",
              "    <tr>\n",
              "      <th>4</th>\n",
              "      <td>-0.190913</td>\n",
              "      <td>-0.471561</td>\n",
              "      <td>-0.961834</td>\n",
              "      <td>1</td>\n",
              "      <td>0</td>\n",
              "      <td>-0.511308</td>\n",
              "      <td>-0.568518</td>\n",
              "      <td>-0.574364</td>\n",
              "    </tr>\n",
              "  </tbody>\n",
              "</table>\n",
              "</div>"
            ],
            "text/plain": [
              "   china_gdp       gdp      dist  border  bri       imp       exp     total\n",
              "0  -1.586325 -0.496193 -0.961834       1    0 -0.511530 -0.593190 -0.588332\n",
              "1  -1.406528 -0.490391 -0.961834       1    0 -0.511647 -0.588314 -0.585652\n",
              "2  -1.057328 -0.481882 -0.961834       1    0 -0.511442 -0.591323 -0.587239\n",
              "3  -0.538437 -0.477032 -0.961834       1    0 -0.511378 -0.587000 -0.584779\n",
              "4  -0.190913 -0.471561 -0.961834       1    0 -0.511308 -0.568518 -0.574364"
            ]
          },
          "metadata": {
            "tags": []
          },
          "execution_count": 14
        }
      ]
    },
    {
      "cell_type": "code",
      "metadata": {
        "id": "-S2NC1X-SIxF",
        "colab_type": "code",
        "colab": {}
      },
      "source": [
        "# Choosing data to use\n",
        "X_B = df_bri[['china_gdp', 'gdp', 'dist', 'border']]\n",
        "Y_B = df_bri['total']"
      ],
      "execution_count": null,
      "outputs": []
    },
    {
      "cell_type": "code",
      "metadata": {
        "id": "DNYlK_BSrrnx",
        "colab_type": "code",
        "colab": {}
      },
      "source": [
        "X_NB = df_nonbri[['china_gdp', 'gdp', 'dist', 'border']]\n",
        "Y_NB = df_nonbri['total']"
      ],
      "execution_count": null,
      "outputs": []
    },
    {
      "cell_type": "code",
      "metadata": {
        "id": "EsYEU9CrSP82",
        "colab_type": "code",
        "colab": {
          "base_uri": "https://localhost:8080/",
          "height": 34
        },
        "outputId": "e0e08804-9d80-4908-e7cc-9c2c90afead4"
      },
      "source": [
        "Y_NB.shape"
      ],
      "execution_count": null,
      "outputs": [
        {
          "output_type": "execute_result",
          "data": {
            "text/plain": [
              "(496,)"
            ]
          },
          "metadata": {
            "tags": []
          },
          "execution_count": 17
        }
      ]
    },
    {
      "cell_type": "code",
      "metadata": {
        "id": "LiOADAhpGHQP",
        "colab_type": "code",
        "colab": {}
      },
      "source": [
        "# Converting dataframe to numpy arrays\n",
        "X_B.to_numpy();\n",
        "Y_B.to_numpy();"
      ],
      "execution_count": null,
      "outputs": []
    },
    {
      "cell_type": "code",
      "metadata": {
        "id": "rr5GTle4sLV8",
        "colab_type": "code",
        "colab": {}
      },
      "source": [
        "X_NB.to_numpy();\n",
        "Y_NB.to_numpy();"
      ],
      "execution_count": null,
      "outputs": []
    },
    {
      "cell_type": "code",
      "metadata": {
        "id": "x7417GFkOIls",
        "colab_type": "code",
        "colab": {}
      },
      "source": [
        "# Making sure that data has right shape\n",
        "yb = Y_B.shape[0]\n",
        "Y_B = Y_B.values.reshape((yb, 1))"
      ],
      "execution_count": null,
      "outputs": []
    },
    {
      "cell_type": "code",
      "metadata": {
        "id": "XX88dVh2sRQd",
        "colab_type": "code",
        "colab": {}
      },
      "source": [
        "ynb = Y_NB.shape[0]\n",
        "Y_NB = Y_NB.values.reshape((ynb, 1))"
      ],
      "execution_count": null,
      "outputs": []
    },
    {
      "cell_type": "code",
      "metadata": {
        "id": "i3MK3K1i5ZRI",
        "colab_type": "code",
        "colab": {}
      },
      "source": [
        "xb0 = X_B.shape[0]\n",
        "xb1 = X_B.shape[1]\n",
        "X_B = X_B.values.reshape((xb0, xb1))"
      ],
      "execution_count": null,
      "outputs": []
    },
    {
      "cell_type": "code",
      "metadata": {
        "id": "qFDe2NYF6Uof",
        "colab_type": "code",
        "colab": {}
      },
      "source": [
        "xnb0 = X_NB.shape[0]\n",
        "xnb1 = X_NB.shape[1]\n",
        "X_NB = X_NB.values.reshape((xnb0, xnb1))"
      ],
      "execution_count": null,
      "outputs": []
    },
    {
      "cell_type": "code",
      "metadata": {
        "id": "Oclu1Bb9bZWI",
        "colab_type": "code",
        "colab": {
          "base_uri": "https://localhost:8080/",
          "height": 34
        },
        "outputId": "88220a26-004a-41db-da4f-6f2cf6f57f21"
      },
      "source": [
        "X_B.shape"
      ],
      "execution_count": null,
      "outputs": [
        {
          "output_type": "execute_result",
          "data": {
            "text/plain": [
              "(329, 4)"
            ]
          },
          "metadata": {
            "tags": []
          },
          "execution_count": 24
        }
      ]
    },
    {
      "cell_type": "code",
      "metadata": {
        "id": "wGyHmCuVfWwL",
        "colab_type": "code",
        "colab": {}
      },
      "source": [
        "# This line is to check if the data is in arrays instead of dataframes\n",
        "# isinstance(X_NB, np.ndarray)"
      ],
      "execution_count": null,
      "outputs": []
    },
    {
      "cell_type": "code",
      "metadata": {
        "id": "fSf-DbxG4RNB",
        "colab_type": "code",
        "colab": {}
      },
      "source": [
        "# We need examples in vertical columns instead of horizantal lines. Therefore, we took transpose\n",
        "X_B = X_B.T\n",
        "Y_B = Y_B.T\n",
        "X_NB = X_NB.T\n",
        "Y_NB = Y_NB.T\n"
      ],
      "execution_count": null,
      "outputs": []
    },
    {
      "cell_type": "code",
      "metadata": {
        "id": "M5oXJX3u7KC2",
        "colab_type": "code",
        "colab": {
          "base_uri": "https://localhost:8080/",
          "height": 34
        },
        "outputId": "dce94bb7-f24d-49fb-e021-6990c08fc2e1"
      },
      "source": [
        "Y_B.shape"
      ],
      "execution_count": null,
      "outputs": [
        {
          "output_type": "execute_result",
          "data": {
            "text/plain": [
              "(1, 329)"
            ]
          },
          "metadata": {
            "tags": []
          },
          "execution_count": 27
        }
      ]
    },
    {
      "cell_type": "code",
      "metadata": {
        "id": "LxOatteT7O4W",
        "colab_type": "code",
        "colab": {}
      },
      "source": [
        "def layer_sizes(X, Y):\n",
        "    \"\"\"\n",
        "    Arguments:\n",
        "    X -- input dataset of shape (input size, number of examples)\n",
        "    Y -- labels of shape (output size, number of examples)\n",
        "    \n",
        "    Returns:\n",
        "    n_x -- the size of the input layer\n",
        "    n_h -- the size of the hidden layer\n",
        "    n_y -- the size of the output layer\n",
        "    \"\"\"\n",
        "    n_x = X.shape[0] # size of input layer\n",
        "    n_h = 20          # size of the hidden layer\n",
        "    n_y = Y.shape[0] # size of output layer\n",
        "    \n",
        "    return (n_x, n_h, n_y)"
      ],
      "execution_count": null,
      "outputs": []
    },
    {
      "cell_type": "code",
      "metadata": {
        "id": "RVwog1hrHCMm",
        "colab_type": "code",
        "colab": {
          "base_uri": "https://localhost:8080/",
          "height": 67
        },
        "outputId": "feba9e21-bbcc-4ac8-e02d-9d1b6cf3e28f"
      },
      "source": [
        "(n_x, n_h, n_y) = layer_sizes(X_B, Y_B)\n",
        "print(\"The size of the input layer is: n_x = \" + str(n_x))\n",
        "print(\"The size of the hidden layer is: n_h = \" + str(n_h))\n",
        "print(\"The size of the output layer is: n_y = \" + str(n_y))"
      ],
      "execution_count": null,
      "outputs": [
        {
          "output_type": "stream",
          "text": [
            "The size of the input layer is: n_x = 4\n",
            "The size of the hidden layer is: n_h = 20\n",
            "The size of the output layer is: n_y = 1\n"
          ],
          "name": "stdout"
        }
      ]
    },
    {
      "cell_type": "code",
      "metadata": {
        "id": "9VZg_PINXqcD",
        "colab_type": "code",
        "colab": {}
      },
      "source": [
        "def initialize_parameters(n_x, n_h, n_y):\n",
        "    \"\"\"\n",
        "    Argument:\n",
        "    n_x -- size of the input layer\n",
        "    n_h -- size of the hidden layer\n",
        "    n_y -- size of the output layer\n",
        "    \n",
        "    Returns:\n",
        "    params -- python dictionary containing your parameters:\n",
        "                    W1 -- weight matrix of shape (n_h, n_x)\n",
        "                    b1 -- bias vector of shape (n_h, 1)\n",
        "                    W2 -- weight matrix of shape (n_y, n_h)\n",
        "                    b2 -- bias vector of shape (n_y, 1)\n",
        "    \"\"\"\n",
        "    \n",
        "    np.random.seed(2) \n",
        "    \n",
        "    W1 = np.random.randn(n_h, n_x) * 0.01\n",
        "    b1 = np.zeros((n_h, 1))\n",
        "    W2 = np.random.randn(n_y, n_h) * 0.01\n",
        "    b2 = np.zeros((n_y, 1))\n",
        "    \n",
        "    assert (W1.shape == (n_h, n_x))\n",
        "    assert (b1.shape == (n_h, 1))\n",
        "    assert (W2.shape == (n_y, n_h))\n",
        "    assert (b2.shape == (n_y, 1))\n",
        "    \n",
        "    parameters = {\"W1\": W1,\n",
        "                  \"b1\": b1,\n",
        "                  \"W2\": W2,\n",
        "                  \"b2\": b2}\n",
        "    \n",
        "    return parameters"
      ],
      "execution_count": null,
      "outputs": []
    },
    {
      "cell_type": "code",
      "metadata": {
        "id": "-AAkPNsW_efe",
        "colab_type": "code",
        "colab": {
          "base_uri": "https://localhost:8080/",
          "height": 773
        },
        "outputId": "595ef2df-1915-43f4-be66-610b99acf965"
      },
      "source": [
        "parameters = initialize_parameters(n_x, n_h, n_y)\n",
        "print(\"W1 = \" + str(parameters[\"W1\"]))\n",
        "print(\"b1 = \" + str(parameters[\"b1\"]))\n",
        "print(\"W2 = \" + str(parameters[\"W2\"]))\n",
        "print(\"b2 = \" + str(parameters[\"b2\"]))"
      ],
      "execution_count": null,
      "outputs": [
        {
          "output_type": "stream",
          "text": [
            "W1 = [[-4.16757847e-03 -5.62668272e-04 -2.13619610e-02  1.64027081e-02]\n",
            " [-1.79343559e-02 -8.41747366e-03  5.02881417e-03 -1.24528809e-02]\n",
            " [-1.05795222e-02 -9.09007615e-03  5.51454045e-03  2.29220801e-02]\n",
            " [ 4.15393930e-04 -1.11792545e-02  5.39058321e-03 -5.96159700e-03]\n",
            " [-1.91304965e-04  1.17500122e-02 -7.47870949e-03  9.02525097e-05]\n",
            " [-8.78107893e-03 -1.56434170e-03  2.56570452e-03 -9.88779049e-03]\n",
            " [-3.38821966e-03 -2.36184031e-03 -6.37655012e-03 -1.18761229e-02]\n",
            " [-1.42121723e-02 -1.53495196e-03 -2.69056960e-03  2.23136679e-02]\n",
            " [-2.43476758e-02  1.12726505e-03  3.70444537e-03  1.35963386e-02]\n",
            " [ 5.01857207e-03 -8.44213704e-03  9.76147160e-08  5.42352572e-03]\n",
            " [-3.13508197e-03  7.71011738e-03 -1.86809065e-02  1.73118467e-02]\n",
            " [ 1.46767801e-02 -3.35677339e-03  6.11340780e-03  4.79705919e-04]\n",
            " [-8.29135289e-03  8.77102184e-04  1.00036589e-02 -3.81092518e-03]\n",
            " [-3.75669423e-03 -7.44707629e-04  4.33496330e-03  1.27837923e-02]\n",
            " [-6.34679305e-03  5.08396243e-03  2.16116006e-03 -1.85861239e-02]\n",
            " [-4.19316482e-03 -1.32328898e-03 -3.95702397e-04  3.26003433e-03]\n",
            " [-2.04032305e-02  4.62555231e-04 -6.77675577e-03 -1.43943903e-02]\n",
            " [ 5.24296430e-03  7.35279576e-03 -6.53250268e-03  8.42456282e-03]\n",
            " [-3.81516482e-03  6.64890091e-04 -1.09873895e-02  1.58448706e-02]\n",
            " [-2.65944946e-02 -9.14526229e-04  6.95119605e-03 -2.03346655e-02]]\n",
            "b1 = [[0.]\n",
            " [0.]\n",
            " [0.]\n",
            " [0.]\n",
            " [0.]\n",
            " [0.]\n",
            " [0.]\n",
            " [0.]\n",
            " [0.]\n",
            " [0.]\n",
            " [0.]\n",
            " [0.]\n",
            " [0.]\n",
            " [0.]\n",
            " [0.]\n",
            " [0.]\n",
            " [0.]\n",
            " [0.]\n",
            " [0.]\n",
            " [0.]]\n",
            "W2 = [[-0.00189469 -0.00077219  0.00824703  0.01248213 -0.00403892 -0.01384519\n",
            "   0.01367235  0.01217886 -0.00462005  0.00350888  0.00381866  0.00566275\n",
            "   0.00204208  0.01406696 -0.0173796   0.01040824  0.00380472 -0.00217135\n",
            "   0.01173531 -0.02343603]]\n",
            "b2 = [[0.]]\n"
          ],
          "name": "stdout"
        }
      ]
    },
    {
      "cell_type": "code",
      "metadata": {
        "id": "rRibhnKyA1g1",
        "colab_type": "code",
        "colab": {}
      },
      "source": [
        "def sigmoid(z):\n",
        "  sig = 1/(1 + np.exp(-z))\n",
        "  return sig"
      ],
      "execution_count": null,
      "outputs": []
    },
    {
      "cell_type": "code",
      "metadata": {
        "id": "7kfkwkva_ibB",
        "colab_type": "code",
        "colab": {}
      },
      "source": [
        "def forward_propagation(X, parameters):\n",
        "    \"\"\"\n",
        "    Argument:\n",
        "    X -- input data of size (n_x, m)\n",
        "    parameters -- python dictionary containing your parameters (output of initialization function)\n",
        "    \n",
        "    Returns:\n",
        "    A2 -- The sigmoid output of the second activation\n",
        "    cache -- a dictionary containing \"Z1\", \"A1\", \"Z2\" and \"A2\"\n",
        "    \"\"\"\n",
        "    # Retrieve each parameter from the dictionary \"parameters\"\n",
        "    W1 = parameters[\"W1\"]\n",
        "    b1 = parameters[\"b1\"]\n",
        "    W2 = parameters[\"W2\"]\n",
        "    b2 = parameters[\"b2\"]\n",
        "    \n",
        "    # Implement Forward Propagation to calculate A2 (probabilities)\n",
        "    Z1 = np.dot(W1,X) + b1\n",
        "    A1 = np.tanh(Z1)              # tanh activation function for the hidden layer\n",
        "    Z2 = np.dot(W2,A1) + b2\n",
        "    A2 = np.maximum(Z2, 0.00001)  #We used ReLU activation function for the outer layer\n",
        "    \n",
        "    assert(A2.shape == (1, X.shape[1]))\n",
        "    \n",
        "    cache = {\"Z1\": Z1,\n",
        "             \"A1\": A1,\n",
        "             \"Z2\": Z2,\n",
        "             \"A2\": A2}\n",
        "    \n",
        "    return A2, cache"
      ],
      "execution_count": null,
      "outputs": []
    },
    {
      "cell_type": "code",
      "metadata": {
        "id": "i5UbRGxlnMss",
        "colab_type": "code",
        "colab": {}
      },
      "source": [
        "(n_x, n_h, n_y) = layer_sizes(X_B, Y_B)\n",
        "parameters = initialize_parameters(n_x, n_h, n_y)\n",
        "(A2, cache) = forward_propagation(X_B, parameters)"
      ],
      "execution_count": null,
      "outputs": []
    },
    {
      "cell_type": "code",
      "metadata": {
        "id": "S8nqAcWpWksq",
        "colab_type": "code",
        "colab": {}
      },
      "source": [
        "A2 = cache[\"A2\"]\n",
        "A1 = cache[\"A1\"]\n",
        "Z2 = cache[\"Z2\"]\n",
        "# Lines below are redundant code I used to check I'm doing it right or to debug the code\n",
        "#np.array(A2) < 0\n",
        "#A2.shape\n",
        "#print(Z2[0, 74:80])\n",
        "#print(A3[0, 20:23])\n",
        "#np.amin(A2)"
      ],
      "execution_count": null,
      "outputs": []
    },
    {
      "cell_type": "code",
      "metadata": {
        "id": "Y8nRSOCQAB5Q",
        "colab_type": "code",
        "colab": {
          "base_uri": "https://localhost:8080/",
          "height": 34
        },
        "outputId": "1b156d2e-cc1b-4951-a0e4-9c1bd4391d11"
      },
      "source": [
        "A2, cache = forward_propagation(X_B, parameters)\n",
        "\n",
        "print(np.mean(cache['Z1']) ,np.mean(cache['A1']),np.mean(cache['Z2']),np.mean(cache['A2']))"
      ],
      "execution_count": null,
      "outputs": [
        {
          "output_type": "stream",
          "text": [
            "-0.005537674997878948 -0.005536259995527388 0.0008220633506687536 0.0008506774237981132\n"
          ],
          "name": "stdout"
        }
      ]
    },
    {
      "cell_type": "code",
      "metadata": {
        "id": "4CelKAplANnW",
        "colab_type": "code",
        "colab": {}
      },
      "source": [
        "def compute_cost(A2, Y, parameters):\n",
        "    \"\"\"\n",
        "    Computes the cross-entropy cost given in equation (13)\n",
        "    \n",
        "    Arguments:\n",
        "    A2 -- The sigmoid output of the second activation, of shape (1, number of examples)\n",
        "    Y -- \"true\" labels vector of shape (1, number of examples)\n",
        "    parameters -- python dictionary containing your parameters W1, b1, W2 and b2\n",
        "    \n",
        "    Returns:\n",
        "    cost -- MSE\n",
        "    \n",
        "    \"\"\"\n",
        "    W1 =parameters[\"W1\"]\n",
        "    W2 =parameters[\"W2\"]\n",
        "\n",
        "    m = Y.shape[1] # number of example\n",
        "\n",
        "    # Compute the MSE cost\n",
        "    MSE = np.square(A2 - Y)\n",
        "    #logprobs = np.multiply(np.log(A2),Y) + np.multiply(np.log(1-A2),1-Y)\n",
        "    cost = np.sum(MSE) * (1/m)\n",
        "    \n",
        "    cost = float(np.squeeze(cost))  # makes sure cost is the dimension we expect. \n",
        "                                    # E.g., turns [[17]] into 17 \n",
        "    assert(isinstance(cost, float))\n",
        "    \n",
        "    return cost"
      ],
      "execution_count": null,
      "outputs": []
    },
    {
      "cell_type": "code",
      "metadata": {
        "id": "P7DjLqoEBbSb",
        "colab_type": "code",
        "colab": {
          "base_uri": "https://localhost:8080/",
          "height": 34
        },
        "outputId": "36cbc902-e929-4801-fc12-57aabdbf87dd"
      },
      "source": [
        "print(\"cost = \" + str(compute_cost(A2, Y_B, parameters)))"
      ],
      "execution_count": null,
      "outputs": [
        {
          "output_type": "stream",
          "text": [
            "cost = 1.4608018387936497\n"
          ],
          "name": "stdout"
        }
      ]
    },
    {
      "cell_type": "code",
      "metadata": {
        "id": "O_8tV_rpBiwS",
        "colab_type": "code",
        "colab": {}
      },
      "source": [
        "def backward_propagation(parameters, cache, X, Y):\n",
        "    \"\"\"\n",
        "    Implement the backward propagation using the instructions above.\n",
        "    \n",
        "    Arguments:\n",
        "    parameters -- python dictionary containing our parameters \n",
        "    cache -- a dictionary containing \"Z1\", \"A1\", \"Z2\" and \"A2\".\n",
        "    X -- input data of shape (2, number of examples)\n",
        "    Y -- \"true\" labels vector of shape (1, number of examples)\n",
        "    \n",
        "    Returns:\n",
        "    grads -- python dictionary containing gradients with respect to different parameters\n",
        "    \"\"\"\n",
        "    m = X.shape[1]\n",
        "    \n",
        "    # First, retrieve W1 and W2 from the dictionary \"parameters\".\n",
        "    W1 = parameters[\"W1\"]\n",
        "    W2 = parameters[\"W2\"]\n",
        "        \n",
        "    # Retrieve also A1 and A2 from dictionary \"cache\".\n",
        "    A1 = cache[\"A1\"]\n",
        "    A2 = cache[\"A2\"]\n",
        "    \n",
        "    # Backward propagation: calculate dW1, db1, dW2, db2. \n",
        "    dZ2 = 2 * (A2-Y)\n",
        "    dW2 = (1/m) * np.dot(dZ2,A1.T)\n",
        "    db2 = (1/m) * np.sum(dZ2, axis = 1, keepdims = True)\n",
        "    dZ1 = np.dot(W2.T,dZ2) * (1 - np.square(A1))\n",
        "    dW1 = (1/m) * np.dot(dZ1,X.T)\n",
        "    db1 = (1/m) * np.sum(dZ1, axis = 1, keepdims = True)\n",
        "    \n",
        "    grads = {\"dW1\": dW1,\n",
        "             \"db1\": db1,\n",
        "             \"dW2\": dW2,\n",
        "             \"db2\": db2}\n",
        "    \n",
        "    return grads"
      ],
      "execution_count": null,
      "outputs": []
    },
    {
      "cell_type": "code",
      "metadata": {
        "id": "ctB8v0__BtrR",
        "colab_type": "code",
        "colab": {
          "base_uri": "https://localhost:8080/",
          "height": 790
        },
        "outputId": "a36460f7-cf2c-4fda-c033-23d1b05b6346"
      },
      "source": [
        "grads = backward_propagation(parameters, cache, X_B, Y_B)\n",
        "print (\"dW1 = \"+ str(grads[\"dW1\"]))\n",
        "print (\"db1 = \"+ str(grads[\"db1\"]))\n",
        "print (\"dW2 = \"+ str(grads[\"dW2\"]))\n",
        "print (\"db2 = \"+ str(grads[\"db2\"]))"
      ],
      "execution_count": null,
      "outputs": [
        {
          "output_type": "stream",
          "text": [
            "dW1 = [[ 0.00069181  0.00304542 -0.00137809  0.00042949]\n",
            " [ 0.00028089  0.00123758 -0.00056122  0.00017443]\n",
            " [-0.00300917 -0.01324905  0.00600162 -0.00187012]\n",
            " [-0.00455127 -0.02002722  0.00907956 -0.00282433]\n",
            " [ 0.00147269  0.00648058 -0.00293785  0.00091402]\n",
            " [ 0.00505643  0.02225614 -0.01007655  0.0031401 ]\n",
            " [-0.00499557 -0.02198268  0.00995329 -0.00310211]\n",
            " [-0.00445031 -0.01958364  0.00886545 -0.0027641 ]\n",
            " [ 0.0016872   0.00742758 -0.00336156  0.00104837]\n",
            " [-0.00128186 -0.00563982  0.00255421 -0.00079591]\n",
            " [-0.00139189 -0.00612651  0.0027752  -0.00086326]\n",
            " [-0.0020701  -0.00910628  0.0041221  -0.00128522]\n",
            " [-0.00074584 -0.00328355  0.0014861  -0.00046329]\n",
            " [-0.00514075 -0.02262328  0.01024092 -0.00319281]\n",
            " [ 0.00635109  0.02794905 -0.01265144  0.00394412]\n",
            " [-0.00380376 -0.01673869  0.0075775  -0.00236232]\n",
            " [-0.00138982 -0.00611501  0.00276881 -0.0008629 ]\n",
            " [ 0.00079193  0.00348617 -0.00157953  0.00049164]\n",
            " [-0.00428724 -0.0188671   0.00854041 -0.00266171]\n",
            " [ 0.00853309  0.03760828 -0.01702914  0.0053007 ]]\n",
            "db1 = [[ 0.0006517 ]\n",
            " [ 0.00026469]\n",
            " [-0.00283525]\n",
            " [-0.00428733]\n",
            " [ 0.00138731]\n",
            " [ 0.00476381]\n",
            " [-0.0047062 ]\n",
            " [-0.00419266]\n",
            " [ 0.00158975]\n",
            " [-0.00120757]\n",
            " [-0.00131105]\n",
            " [-0.00195019]\n",
            " [-0.00070268]\n",
            " [-0.00484298]\n",
            " [ 0.00598335]\n",
            " [-0.00358346]\n",
            " [-0.00130953]\n",
            " [ 0.00074607]\n",
            " [-0.00403873]\n",
            " [ 0.00804242]]\n",
            "dW2 = [[-1.68413741e-02  2.65474831e-02  1.72917824e-02  2.30887348e-02\n",
            "  -2.42765147e-02  9.83549107e-03  3.08933929e-03  6.39188872e-04\n",
            "   6.69420026e-03  1.05100488e-02 -2.87617334e-02  4.37568211e-03\n",
            "   9.76605756e-03  2.82506441e-03 -6.50166905e-05  2.63267150e-03\n",
            "   5.04518523e-03 -2.03987956e-02 -1.12687923e-02  2.08448205e-02]]\n",
            "db2 = [[-0.34431112]]\n"
          ],
          "name": "stdout"
        }
      ]
    },
    {
      "cell_type": "code",
      "metadata": {
        "id": "sQgmk1HqByQp",
        "colab_type": "code",
        "colab": {}
      },
      "source": [
        "def update_parameters(parameters, grads, learning_rate = 1.2):\n",
        "    \"\"\"\n",
        "    Updates parameters using the gradient descent update rule given above\n",
        "    \n",
        "    Arguments:\n",
        "    parameters -- python dictionary containing your parameters \n",
        "    grads -- python dictionary containing your gradients \n",
        "    \n",
        "    Returns:\n",
        "    parameters -- python dictionary containing your updated parameters \n",
        "    \"\"\"\n",
        "    # Retrieve each parameter from the dictionary \"parameters\"\n",
        "    W1 = parameters[\"W1\"]\n",
        "    b1 = parameters[\"b1\"]\n",
        "    W2 = parameters[\"W2\"]\n",
        "    b2 = parameters[\"b2\"]\n",
        "    \n",
        "    # Retrieve each gradient from the dictionary \"grads\"\n",
        "    dW1 = grads[\"dW1\"]\n",
        "    db1 = grads[\"db1\"]\n",
        "    dW2 = grads[\"dW2\"]\n",
        "    db2 = grads[\"db2\"]\n",
        "    \n",
        "    # Update rule for each parameter\n",
        "    W1 = W1 - learning_rate * dW1\n",
        "    b1 = b1 - learning_rate * db1\n",
        "    W2 = W2 - learning_rate * dW2\n",
        "    b2 = b2 - learning_rate * db2\n",
        "    \n",
        "    parameters = {\"W1\": W1,\n",
        "                  \"b1\": b1,\n",
        "                  \"W2\": W2,\n",
        "                  \"b2\": b2}\n",
        "    \n",
        "    return parameters"
      ],
      "execution_count": null,
      "outputs": []
    },
    {
      "cell_type": "code",
      "metadata": {
        "id": "8MqQHs5jB7Sw",
        "colab_type": "code",
        "colab": {
          "base_uri": "https://localhost:8080/",
          "height": 773
        },
        "outputId": "b63308e3-a086-481a-b238-97d023f5de86"
      },
      "source": [
        "parameters = update_parameters(parameters, grads)\n",
        "\n",
        "print(\"W1 = \" + str(parameters[\"W1\"]))\n",
        "print(\"b1 = \" + str(parameters[\"b1\"]))\n",
        "print(\"W2 = \" + str(parameters[\"W2\"]))\n",
        "print(\"b2 = \" + str(parameters[\"b2\"]))"
      ],
      "execution_count": null,
      "outputs": [
        {
          "output_type": "stream",
          "text": [
            "W1 = [[-0.00499775 -0.00421717 -0.01970826  0.01588732]\n",
            " [-0.01827142 -0.00990257  0.00570228 -0.0126622 ]\n",
            " [-0.00696852  0.00680878 -0.0016874   0.02516622]\n",
            " [ 0.00587692  0.01285341 -0.00550489 -0.0025724 ]\n",
            " [-0.00195854  0.00397331 -0.00395329 -0.00100657]\n",
            " [-0.0148488  -0.02827171  0.01465756 -0.01365591]\n",
            " [ 0.00260646  0.02401737 -0.0183205  -0.0081536 ]\n",
            " [-0.0088718   0.02196542 -0.01332912  0.02563059]\n",
            " [-0.02637231 -0.00778583  0.00773832  0.01233829]\n",
            " [ 0.0065568  -0.00167436 -0.00306495  0.00637861]\n",
            " [-0.00146482  0.01506192 -0.02201114  0.01834776]\n",
            " [ 0.0171609   0.00757076  0.00116689  0.00202197]\n",
            " [-0.00739634  0.00481736  0.00822034 -0.00325498]\n",
            " [ 0.00241221  0.02640322 -0.00795414  0.01661517]\n",
            " [-0.01396811 -0.0284549   0.01734289 -0.02331907]\n",
            " [ 0.00037134  0.01876314 -0.0094887   0.00609482]\n",
            " [-0.01873545  0.00780057 -0.01009933 -0.01335891]\n",
            " [ 0.00429265  0.0031694  -0.00463707  0.00783459]\n",
            " [ 0.00132953  0.02330541 -0.02123589  0.01903892]\n",
            " [-0.0368342  -0.04604446  0.02738616 -0.0266955 ]]\n",
            "b1 = [[-0.00078204]\n",
            " [-0.00031763]\n",
            " [ 0.0034023 ]\n",
            " [ 0.0051448 ]\n",
            " [-0.00166477]\n",
            " [-0.00571658]\n",
            " [ 0.00564744]\n",
            " [ 0.00503119]\n",
            " [-0.0019077 ]\n",
            " [ 0.00144908]\n",
            " [ 0.00157326]\n",
            " [ 0.00234023]\n",
            " [ 0.00084321]\n",
            " [ 0.00581158]\n",
            " [-0.00718002]\n",
            " [ 0.00430015]\n",
            " [ 0.00157143]\n",
            " [-0.00089529]\n",
            " [ 0.00484648]\n",
            " [-0.00965091]]\n",
            "W2 = [[ 0.01831496 -0.03262917 -0.01250311 -0.01522435  0.02509289 -0.02564778\n",
            "   0.00996515  0.01141183 -0.01265309 -0.00910317  0.03833274  0.00041194\n",
            "  -0.00967719  0.01067689 -0.01730158  0.00724903 -0.0022495   0.0223072\n",
            "   0.02525787 -0.04844982]]\n",
            "b2 = [[0.41317334]]\n"
          ],
          "name": "stdout"
        }
      ]
    },
    {
      "cell_type": "code",
      "metadata": {
        "id": "WjXeMz3TB_a_",
        "colab_type": "code",
        "colab": {}
      },
      "source": [
        "def nn_model(X, Y, n_h, num_iterations = 10000, print_cost=False):\n",
        "    \"\"\"\n",
        "    Arguments:\n",
        "    X -- dataset of shape (2, number of examples)\n",
        "    Y -- labels of shape (1, number of examples)\n",
        "    n_h -- size of the hidden layer\n",
        "    num_iterations -- Number of iterations in gradient descent loop\n",
        "    print_cost -- if True, print the cost every 1000 iterations\n",
        "    \n",
        "    Returns:\n",
        "    parameters -- parameters learnt by the model. They can then be used to predict.\n",
        "    \"\"\"\n",
        "    \n",
        "    np.random.seed(3)\n",
        "    n_x = layer_sizes(X, Y)[0]\n",
        "    n_y = layer_sizes(X, Y)[2]\n",
        "    \n",
        "    # Initialize parameters\n",
        "    parameters = initialize_parameters(n_x, n_h, n_y)\n",
        "    \n",
        "    # Loop (gradient descent)\n",
        "\n",
        "    for i in range(0, num_iterations):\n",
        "         \n",
        "        # Forward propagation. Inputs: \"X, parameters\". Outputs: \"A2, cache\".\n",
        "        A2, cache = forward_propagation(X, parameters)\n",
        "        \n",
        "        # Cost function. Inputs: \"A2, Y, parameters\". Outputs: \"cost\".\n",
        "        cost = compute_cost(A2, Y, parameters)\n",
        " \n",
        "        # Backpropagation. Inputs: \"parameters, cache, X, Y\". Outputs: \"grads\".\n",
        "        grads = backward_propagation(parameters, cache, X, Y)\n",
        " \n",
        "        # Gradient descent parameter update. Inputs: \"parameters, grads\". Outputs: \"parameters\".\n",
        "        parameters = update_parameters(parameters, grads, learning_rate = 0.2)\n",
        "        \n",
        "        \n",
        "        # Print the cost every 1000 iterations\n",
        "        if print_cost and i % 10000 == 0:\n",
        "            print (\"Cost after iteration %i: %f\" %(i, cost))\n",
        "\n",
        "    return parameters"
      ],
      "execution_count": null,
      "outputs": []
    },
    {
      "cell_type": "code",
      "metadata": {
        "id": "T_MyaNrdIQT7",
        "colab_type": "code",
        "colab": {
          "base_uri": "https://localhost:8080/",
          "height": 958
        },
        "outputId": "f49c5ed7-413e-4b6f-d64c-dd7565bf1bfd"
      },
      "source": [
        "parameters = nn_model(X_B, Y_B, 20, num_iterations=100000, print_cost=True)\n",
        "print(\"W1 = \" + str(parameters[\"W1\"]))\n",
        "print(\"b1 = \" + str(parameters[\"b1\"]))\n",
        "print(\"W2 = \" + str(parameters[\"W2\"]))\n",
        "print(\"b2 = \" + str(parameters[\"b2\"]))"
      ],
      "execution_count": null,
      "outputs": [
        {
          "output_type": "stream",
          "text": [
            "Cost after iteration 0: 1.460802\n",
            "Cost after iteration 10000: 1.202800\n",
            "Cost after iteration 20000: 1.447231\n",
            "Cost after iteration 30000: 1.457294\n",
            "Cost after iteration 40000: 1.455103\n",
            "Cost after iteration 50000: 1.454507\n",
            "Cost after iteration 60000: 1.457801\n",
            "Cost after iteration 70000: 1.458337\n",
            "Cost after iteration 80000: 1.455509\n",
            "Cost after iteration 90000: 1.445553\n",
            "W1 = [[-2.42286318e+00  7.19048137e-01 -1.08599722e+00 -2.41619425e+00]\n",
            " [-2.76665024e+01 -2.34867372e+02  5.47402635e+01  5.15224778e+01]\n",
            " [-2.71983843e-01 -1.26611410e-01 -2.72088752e+00 -6.59232638e+00]\n",
            " [-2.86983645e-01 -1.06094825e-01 -2.83482180e+00 -6.89640637e+00]\n",
            " [ 5.08753247e-01  6.38783097e-01 -1.15733953e+00 -4.00976144e+00]\n",
            " [-2.76673046e+01 -2.34874015e+02  5.47418222e+01  5.15239113e+01]\n",
            " [ 2.76656643e+01  2.34860432e+02 -5.47386349e+01 -5.15209800e+01]\n",
            " [ 2.76660351e+01  2.34863502e+02 -5.47393554e+01 -5.15216426e+01]\n",
            " [-1.95836407e-01 -6.64136868e-01  1.18018842e+00  3.83957097e+00]\n",
            " [-1.58186557e+00 -7.12763650e-02  1.42495526e+00 -2.46986140e+00]\n",
            " [ 2.76674535e+01  2.34875248e+02 -5.47421117e+01 -5.15241775e+01]\n",
            " [ 2.35867310e-01  1.35978514e-01  2.65427355e+00  6.42169498e+00]\n",
            " [-7.02452370e-01 -9.27402172e-02  1.33562200e+00 -1.73680301e+00]\n",
            " [ 2.76661560e+01  2.34864503e+02 -5.47395903e+01 -5.15218586e+01]\n",
            " [-2.76670438e+01 -2.34871855e+02  5.47413155e+01  5.15234453e+01]\n",
            " [ 2.67623647e-01  6.58506149e-01 -1.17493899e+00 -3.89425871e+00]\n",
            " [-2.68243077e+00  7.10951325e-01 -1.05084531e+00 -2.44367264e+00]\n",
            " [ 1.17040182e-01  6.72682711e-01 -1.18887557e+00 -3.80914618e+00]\n",
            " [ 2.76672780e+01  2.34873794e+02 -5.47417706e+01 -5.15238638e+01]\n",
            " [-2.76681503e+01 -2.34881018e+02  5.47434658e+01  5.15254228e+01]]\n",
            "b1 = [[ -6.35902957]\n",
            " [ 15.60570358]\n",
            " [ 12.17688936]\n",
            " [ 12.39595582]\n",
            " [ -8.25508967]\n",
            " [ 15.60616276]\n",
            " [-15.60522383]\n",
            " [-15.60543607]\n",
            " [  7.98092953]\n",
            " [ 12.45019531]\n",
            " [-15.60624803]\n",
            " [-12.01879161]\n",
            " [ 10.44770512]\n",
            " [-15.60550526]\n",
            " [ 15.60601348]\n",
            " [ -8.03636662]\n",
            " [ -6.0834425 ]\n",
            " [ -7.92494282]\n",
            " [-15.60614754]\n",
            " [ 15.60664691]]\n",
            "W2 = [[  9987.2467157  -13314.96900382  -9985.75317827  -9985.05974363\n",
            "    9987.28150336 -13316.30627212  13313.57240884  13314.19017028\n",
            "   -9987.05585199  -9986.65905389  13316.55464552   9986.00119878\n",
            "   -9986.44452479  13314.39158919 -13315.87147715   9987.27063513\n",
            "    9986.83271514   9987.24092805  13316.26193302 -13317.71668224]]\n",
            "b2 = [[-9988.7085666]]\n"
          ],
          "name": "stdout"
        }
      ]
    },
    {
      "cell_type": "code",
      "metadata": {
        "id": "1mH538sgIZsr",
        "colab_type": "code",
        "colab": {}
      },
      "source": [
        "def predict(parameters, X):\n",
        "    \"\"\"\n",
        "    Using the learned parameters, predicts a class for each example in X\n",
        "    \n",
        "    Arguments:\n",
        "    parameters -- python dictionary containing your parameters \n",
        "    X -- input data of size (n_x, m)\n",
        "    \n",
        "    Returns\n",
        "    predictions -- \n",
        "    \"\"\"\n",
        "    \n",
        "    A2, cache = forward_propagation(X, parameters)\n",
        "    predictions = A2\n",
        "    \n",
        "    return predictions"
      ],
      "execution_count": null,
      "outputs": []
    },
    {
      "cell_type": "code",
      "metadata": {
        "id": "iydYO1tJV-BA",
        "colab_type": "code",
        "colab": {
          "base_uri": "https://localhost:8080/",
          "height": 722
        },
        "outputId": "e9a9cd70-a869-40b3-dc91-90ec4177101e"
      },
      "source": [
        "predictions = predict(parameters, X_NB)\n",
        "\n",
        "bool_array = np.array(predictions-Y_NB) > 0\n",
        "print(bool_array)"
      ],
      "execution_count": null,
      "outputs": [
        {
          "output_type": "stream",
          "text": [
            "[[ True  True  True  True  True  True  True  True  True  True  True  True\n",
            "   True  True  True  True  True  True  True  True  True  True  True  True\n",
            "   True  True  True  True  True  True  True  True  True  True  True  True\n",
            "   True  True  True  True  True  True  True  True  True  True  True  True\n",
            "   True  True  True  True  True  True  True  True  True  True  True  True\n",
            "   True  True  True  True  True  True  True  True  True  True  True  True\n",
            "   True  True  True  True  True  True  True  True  True  True  True  True\n",
            "   True  True  True  True  True  True  True  True  True  True  True  True\n",
            "   True  True  True  True  True  True  True  True  True  True  True  True\n",
            "   True  True  True  True  True  True  True  True  True  True  True  True\n",
            "   True  True  True  True  True  True  True  True  True  True  True  True\n",
            "   True  True  True  True  True  True  True  True  True  True  True  True\n",
            "   True  True  True  True  True  True  True  True  True  True  True  True\n",
            "   True  True False  True  True  True  True  True False  True  True  True\n",
            "   True  True False  True  True  True False False False  True  True  True\n",
            "   True  True  True  True  True  True  True  True  True False  True  True\n",
            "   True  True  True  True False False False False False False  True  True\n",
            "   True  True  True  True  True  True  True  True  True  True  True  True\n",
            "   True  True  True  True  True  True  True  True  True  True  True  True\n",
            "   True  True  True  True  True  True  True  True  True  True  True  True\n",
            "   True  True  True  True  True  True  True  True  True  True  True  True\n",
            "   True  True  True  True  True  True  True  True  True  True  True  True\n",
            "   True  True  True  True  True  True  True  True False False  True  True\n",
            "  False False  True  True  True  True  True  True  True  True  True  True\n",
            "   True  True  True  True  True  True  True  True  True  True  True  True\n",
            "   True  True  True  True  True  True  True  True  True  True  True  True\n",
            "   True  True  True  True  True  True  True  True  True  True  True  True\n",
            "   True  True  True  True  True  True  True  True  True False False False\n",
            "   True  True  True  True  True False  True  True  True  True  True  True\n",
            "   True  True  True  True False False  True  True  True  True  True  True\n",
            "   True  True  True  True  True  True  True  True  True  True  True  True\n",
            "   True  True  True  True  True  True  True  True  True  True False  True\n",
            "   True  True  True False False  True  True  True  True  True  True False\n",
            "  False  True  True False False  True  True  True  True  True  True  True\n",
            "   True  True  True  True  True  True  True  True  True  True  True  True\n",
            "   True  True  True  True  True  True  True  True  True  True  True  True\n",
            "   True  True  True  True False  True  True  True  True  True  True  True\n",
            "   True  True  True  True  True  True  True  True  True  True  True  True\n",
            "   True  True False False  True  True  True  True  True  True  True  True\n",
            "   True  True  True  True  True False  True  True False False  True  True\n",
            "   True  True  True  True False False False False False False  True  True\n",
            "   True  True  True  True]]\n"
          ],
          "name": "stdout"
        }
      ]
    },
    {
      "cell_type": "code",
      "metadata": {
        "id": "FfjyVX_3XwKf",
        "colab_type": "code",
        "colab": {}
      },
      "source": [
        "count = np.count_nonzero(bool_array)"
      ],
      "execution_count": null,
      "outputs": []
    },
    {
      "cell_type": "code",
      "metadata": {
        "id": "9WtTpznEESdb",
        "colab_type": "code",
        "colab": {
          "base_uri": "https://localhost:8080/",
          "height": 34
        },
        "outputId": "3d83eee5-63e2-4029-d3f5-714187788403"
      },
      "source": [
        "print(count)"
      ],
      "execution_count": null,
      "outputs": [
        {
          "output_type": "stream",
          "text": [
            "454\n"
          ],
          "name": "stdout"
        }
      ]
    }
  ]
}